{
 "cells": [
  {
   "cell_type": "code",
   "execution_count": 1,
   "id": "2e8be1ed",
   "metadata": {},
   "outputs": [],
   "source": [
    "import pandas as pd\n",
    "import numpy as np\n",
    "import matplotlib.pyplot as plt\n",
    "import seaborn as sns\n",
    "import matplotlib.dates as mdates"
   ]
  },
  {
   "cell_type": "code",
   "execution_count": 2,
   "id": "db9a6fde",
   "metadata": {},
   "outputs": [],
   "source": [
    "application_details=pd.read_csv('applications data.csv')"
   ]
  },
  {
   "cell_type": "code",
   "execution_count": 3,
   "id": "2557c7a9",
   "metadata": {},
   "outputs": [
    {
     "data": {
      "text/html": [
       "<div>\n",
       "<style scoped>\n",
       "    .dataframe tbody tr th:only-of-type {\n",
       "        vertical-align: middle;\n",
       "    }\n",
       "\n",
       "    .dataframe tbody tr th {\n",
       "        vertical-align: top;\n",
       "    }\n",
       "\n",
       "    .dataframe thead th {\n",
       "        text-align: right;\n",
       "    }\n",
       "</style>\n",
       "<table border=\"1\" class=\"dataframe\">\n",
       "  <thead>\n",
       "    <tr style=\"text-align: right;\">\n",
       "      <th></th>\n",
       "      <th>record</th>\n",
       "      <th>date</th>\n",
       "      <th>ssn</th>\n",
       "      <th>firstname</th>\n",
       "      <th>lastname</th>\n",
       "      <th>address</th>\n",
       "      <th>zip5</th>\n",
       "      <th>dob</th>\n",
       "      <th>homephone</th>\n",
       "      <th>fraud_label</th>\n",
       "    </tr>\n",
       "  </thead>\n",
       "  <tbody>\n",
       "    <tr>\n",
       "      <th>0</th>\n",
       "      <td>1</td>\n",
       "      <td>20160101</td>\n",
       "      <td>379070012</td>\n",
       "      <td>XRRAMMTR</td>\n",
       "      <td>SMJETJMJ</td>\n",
       "      <td>6861 EUTST PL</td>\n",
       "      <td>2765</td>\n",
       "      <td>19070626</td>\n",
       "      <td>1797504115</td>\n",
       "      <td>0</td>\n",
       "    </tr>\n",
       "    <tr>\n",
       "      <th>1</th>\n",
       "      <td>2</td>\n",
       "      <td>20160101</td>\n",
       "      <td>387482503</td>\n",
       "      <td>MAMSTUJR</td>\n",
       "      <td>RTTEMRRR</td>\n",
       "      <td>7280 URASA PL</td>\n",
       "      <td>57169</td>\n",
       "      <td>19340615</td>\n",
       "      <td>4164239415</td>\n",
       "      <td>1</td>\n",
       "    </tr>\n",
       "    <tr>\n",
       "      <th>2</th>\n",
       "      <td>3</td>\n",
       "      <td>20160101</td>\n",
       "      <td>200332444</td>\n",
       "      <td>SZMMUJEZS</td>\n",
       "      <td>EUSEZRAE</td>\n",
       "      <td>5581 RSREX LN</td>\n",
       "      <td>56721</td>\n",
       "      <td>19070626</td>\n",
       "      <td>216537580</td>\n",
       "      <td>0</td>\n",
       "    </tr>\n",
       "    <tr>\n",
       "      <th>3</th>\n",
       "      <td>4</td>\n",
       "      <td>20160101</td>\n",
       "      <td>747451317</td>\n",
       "      <td>SJJZSXRSZ</td>\n",
       "      <td>ETJXTXXS</td>\n",
       "      <td>1387 UJZXJ RD</td>\n",
       "      <td>35286</td>\n",
       "      <td>19440430</td>\n",
       "      <td>132144161</td>\n",
       "      <td>0</td>\n",
       "    </tr>\n",
       "    <tr>\n",
       "      <th>4</th>\n",
       "      <td>5</td>\n",
       "      <td>20160101</td>\n",
       "      <td>24065868</td>\n",
       "      <td>SSSXUEJMS</td>\n",
       "      <td>SSUUJXUZ</td>\n",
       "      <td>279 EAASA WY</td>\n",
       "      <td>3173</td>\n",
       "      <td>19980315</td>\n",
       "      <td>6101082272</td>\n",
       "      <td>0</td>\n",
       "    </tr>\n",
       "  </tbody>\n",
       "</table>\n",
       "</div>"
      ],
      "text/plain": [
       "   record      date        ssn  firstname  lastname        address   zip5  \\\n",
       "0       1  20160101  379070012   XRRAMMTR  SMJETJMJ  6861 EUTST PL   2765   \n",
       "1       2  20160101  387482503   MAMSTUJR  RTTEMRRR  7280 URASA PL  57169   \n",
       "2       3  20160101  200332444  SZMMUJEZS  EUSEZRAE  5581 RSREX LN  56721   \n",
       "3       4  20160101  747451317  SJJZSXRSZ  ETJXTXXS  1387 UJZXJ RD  35286   \n",
       "4       5  20160101   24065868  SSSXUEJMS  SSUUJXUZ   279 EAASA WY   3173   \n",
       "\n",
       "        dob   homephone  fraud_label  \n",
       "0  19070626  1797504115            0  \n",
       "1  19340615  4164239415            1  \n",
       "2  19070626   216537580            0  \n",
       "3  19440430   132144161            0  \n",
       "4  19980315  6101082272            0  "
      ]
     },
     "execution_count": 3,
     "metadata": {},
     "output_type": "execute_result"
    }
   ],
   "source": [
    "application_details.head()"
   ]
  },
  {
   "cell_type": "code",
   "execution_count": 5,
   "id": "fb1af0af",
   "metadata": {},
   "outputs": [
    {
     "data": {
      "text/plain": [
       "record          int64\n",
       "date            int64\n",
       "ssn             int64\n",
       "firstname      object\n",
       "lastname       object\n",
       "address        object\n",
       "zip5            int64\n",
       "dob             int64\n",
       "homephone       int64\n",
       "fraud_label     int64\n",
       "dtype: object"
      ]
     },
     "execution_count": 5,
     "metadata": {},
     "output_type": "execute_result"
    }
   ],
   "source": [
    "application_details.dtypes"
   ]
  },
  {
   "cell_type": "code",
   "execution_count": 4,
   "id": "3c47414a",
   "metadata": {},
   "outputs": [
    {
     "data": {
      "text/plain": [
       "(1000000, 10)"
      ]
     },
     "execution_count": 4,
     "metadata": {},
     "output_type": "execute_result"
    }
   ],
   "source": [
    "application_details.shape"
   ]
  },
  {
   "cell_type": "code",
   "execution_count": 6,
   "id": "76377d1d",
   "metadata": {},
   "outputs": [
    {
     "data": {
      "text/plain": [
       "record         0\n",
       "date           0\n",
       "ssn            0\n",
       "firstname      0\n",
       "lastname       0\n",
       "address        0\n",
       "zip5           0\n",
       "dob            0\n",
       "homephone      0\n",
       "fraud_label    0\n",
       "dtype: int64"
      ]
     },
     "execution_count": 6,
     "metadata": {},
     "output_type": "execute_result"
    }
   ],
   "source": [
    "application_details.isnull().sum()"
   ]
  },
  {
   "cell_type": "code",
   "execution_count": 7,
   "id": "0fde8520",
   "metadata": {},
   "outputs": [
    {
     "name": "stdout",
     "output_type": "stream",
     "text": [
      "<class 'pandas.core.frame.DataFrame'>\n",
      "RangeIndex: 1000000 entries, 0 to 999999\n",
      "Data columns (total 10 columns):\n",
      " #   Column       Non-Null Count    Dtype \n",
      "---  ------       --------------    ----- \n",
      " 0   record       1000000 non-null  int64 \n",
      " 1   date         1000000 non-null  int64 \n",
      " 2   ssn          1000000 non-null  int64 \n",
      " 3   firstname    1000000 non-null  object\n",
      " 4   lastname     1000000 non-null  object\n",
      " 5   address      1000000 non-null  object\n",
      " 6   zip5         1000000 non-null  int64 \n",
      " 7   dob          1000000 non-null  int64 \n",
      " 8   homephone    1000000 non-null  int64 \n",
      " 9   fraud_label  1000000 non-null  int64 \n",
      "dtypes: int64(7), object(3)\n",
      "memory usage: 76.3+ MB\n"
     ]
    }
   ],
   "source": [
    "application_details.info()"
   ]
  },
  {
   "cell_type": "code",
   "execution_count": null,
   "id": "9fc7703d",
   "metadata": {},
   "outputs": [],
   "source": []
  },
  {
   "cell_type": "code",
   "execution_count": 8,
   "id": "75f789c5",
   "metadata": {},
   "outputs": [],
   "source": [
    "application_details['date'] = pd.to_datetime(application_details['date'], format='%Y%m%d')\n",
    "application_details['dob'] = pd.to_datetime(application_details['dob'], format='%Y%m%d')"
   ]
  },
  {
   "cell_type": "code",
   "execution_count": 9,
   "id": "e579169f",
   "metadata": {},
   "outputs": [],
   "source": [
    "categ_cols=['ssn','firstname','lastname','address','zip5','homephone','fraud_label']\n",
    "for col in categ_cols:\n",
    "    application_details[col]=application_details[col].astype(\"category\")"
   ]
  },
  {
   "cell_type": "code",
   "execution_count": 14,
   "id": "791e743b",
   "metadata": {
    "scrolled": true
   },
   "outputs": [
    {
     "name": "stdout",
     "output_type": "stream",
     "text": [
      "<class 'pandas.core.frame.DataFrame'>\n",
      "RangeIndex: 1000000 entries, 0 to 999999\n",
      "Data columns (total 10 columns):\n",
      " #   Column       Non-Null Count    Dtype         \n",
      "---  ------       --------------    -----         \n",
      " 0   record       1000000 non-null  int64         \n",
      " 1   date         1000000 non-null  datetime64[ns]\n",
      " 2   ssn          1000000 non-null  category      \n",
      " 3   firstname    1000000 non-null  category      \n",
      " 4   lastname     1000000 non-null  category      \n",
      " 5   address      1000000 non-null  category      \n",
      " 6   zip5         1000000 non-null  category      \n",
      " 7   dob          1000000 non-null  datetime64[ns]\n",
      " 8   homephone    1000000 non-null  category      \n",
      " 9   fraud_label  1000000 non-null  category      \n",
      "dtypes: category(7), datetime64[ns](2), int64(1)\n",
      "memory usage: 130.5 MB\n"
     ]
    }
   ],
   "source": [
    "application_details.info()"
   ]
  },
  {
   "cell_type": "code",
   "execution_count": 10,
   "id": "cf895a9d",
   "metadata": {},
   "outputs": [
    {
     "data": {
      "text/plain": [
       "0"
      ]
     },
     "execution_count": 10,
     "metadata": {},
     "output_type": "execute_result"
    }
   ],
   "source": [
    "application_details[col].isnull().sum()"
   ]
  },
  {
   "cell_type": "code",
   "execution_count": 11,
   "id": "da1170da",
   "metadata": {},
   "outputs": [],
   "source": [
    "categ_cols=['record','ssn','firstname','lastname','address','zip5','homephone','fraud_label']\n",
    "num_records=[]\n",
    "percent_populated=[]\n",
    "unique_values=[]\n",
    "most_common=[]\n",
    "for col in categ_cols:\n",
    "    num_records.append(application_details[col].shape[0])\n",
    "    percent_populated.append((1-application_details[col].isnull().sum()/application_details.shape[0])*100)\n",
    "    unique_values.append(application_details[col].nunique())\n",
    "    most_common.append(application_details[col].value_counts().idxmax())\n",
    "    "
   ]
  },
  {
   "cell_type": "code",
   "execution_count": 12,
   "id": "d1dad114",
   "metadata": {},
   "outputs": [
    {
     "name": "stdout",
     "output_type": "stream",
     "text": [
      "[1, 999999999, 'EAMSTRMT', 'ERJSAXA', '123 MAIN ST', 68138, 9999999999, 0]\n",
      "[1000000, 835819, 78136, 177001, 828774, 26370, 28244, 2]\n",
      "[1000000, 1000000, 1000000, 1000000, 1000000, 1000000, 1000000, 1000000]\n",
      "[100.0, 100.0, 100.0, 100.0, 100.0, 100.0, 100.0, 100.0]\n"
     ]
    }
   ],
   "source": [
    "print(most_common)\n",
    "print(unique_values)\n",
    "print(num_records)\n",
    "print(percent_populated)"
   ]
  },
  {
   "cell_type": "code",
   "execution_count": 13,
   "id": "baf5e583",
   "metadata": {},
   "outputs": [],
   "source": [
    "stats_data={'Column Name':categ_cols,'# of Records':num_records,\n",
    "           '% Populated':percent_populated,'Unique Values':unique_values,'Most Common Field Value':most_common}\n",
    "stats_table=pd.DataFrame(data=stats_data)"
   ]
  },
  {
   "cell_type": "code",
   "execution_count": 14,
   "id": "94ad2b84",
   "metadata": {},
   "outputs": [
    {
     "data": {
      "text/html": [
       "<div>\n",
       "<style scoped>\n",
       "    .dataframe tbody tr th:only-of-type {\n",
       "        vertical-align: middle;\n",
       "    }\n",
       "\n",
       "    .dataframe tbody tr th {\n",
       "        vertical-align: top;\n",
       "    }\n",
       "\n",
       "    .dataframe thead th {\n",
       "        text-align: right;\n",
       "    }\n",
       "</style>\n",
       "<table border=\"1\" class=\"dataframe\">\n",
       "  <thead>\n",
       "    <tr style=\"text-align: right;\">\n",
       "      <th></th>\n",
       "      <th>Column Name</th>\n",
       "      <th># of Records</th>\n",
       "      <th>% Populated</th>\n",
       "      <th>Unique Values</th>\n",
       "      <th>Most Common Field Value</th>\n",
       "    </tr>\n",
       "  </thead>\n",
       "  <tbody>\n",
       "    <tr>\n",
       "      <th>0</th>\n",
       "      <td>record</td>\n",
       "      <td>1000000</td>\n",
       "      <td>100.0</td>\n",
       "      <td>1000000</td>\n",
       "      <td>1</td>\n",
       "    </tr>\n",
       "    <tr>\n",
       "      <th>1</th>\n",
       "      <td>ssn</td>\n",
       "      <td>1000000</td>\n",
       "      <td>100.0</td>\n",
       "      <td>835819</td>\n",
       "      <td>999999999</td>\n",
       "    </tr>\n",
       "    <tr>\n",
       "      <th>2</th>\n",
       "      <td>firstname</td>\n",
       "      <td>1000000</td>\n",
       "      <td>100.0</td>\n",
       "      <td>78136</td>\n",
       "      <td>EAMSTRMT</td>\n",
       "    </tr>\n",
       "    <tr>\n",
       "      <th>3</th>\n",
       "      <td>lastname</td>\n",
       "      <td>1000000</td>\n",
       "      <td>100.0</td>\n",
       "      <td>177001</td>\n",
       "      <td>ERJSAXA</td>\n",
       "    </tr>\n",
       "    <tr>\n",
       "      <th>4</th>\n",
       "      <td>address</td>\n",
       "      <td>1000000</td>\n",
       "      <td>100.0</td>\n",
       "      <td>828774</td>\n",
       "      <td>123 MAIN ST</td>\n",
       "    </tr>\n",
       "    <tr>\n",
       "      <th>5</th>\n",
       "      <td>zip5</td>\n",
       "      <td>1000000</td>\n",
       "      <td>100.0</td>\n",
       "      <td>26370</td>\n",
       "      <td>68138</td>\n",
       "    </tr>\n",
       "    <tr>\n",
       "      <th>6</th>\n",
       "      <td>homephone</td>\n",
       "      <td>1000000</td>\n",
       "      <td>100.0</td>\n",
       "      <td>28244</td>\n",
       "      <td>9999999999</td>\n",
       "    </tr>\n",
       "    <tr>\n",
       "      <th>7</th>\n",
       "      <td>fraud_label</td>\n",
       "      <td>1000000</td>\n",
       "      <td>100.0</td>\n",
       "      <td>2</td>\n",
       "      <td>0</td>\n",
       "    </tr>\n",
       "  </tbody>\n",
       "</table>\n",
       "</div>"
      ],
      "text/plain": [
       "   Column Name  # of Records  % Populated  Unique Values  \\\n",
       "0       record       1000000        100.0        1000000   \n",
       "1          ssn       1000000        100.0         835819   \n",
       "2    firstname       1000000        100.0          78136   \n",
       "3     lastname       1000000        100.0         177001   \n",
       "4      address       1000000        100.0         828774   \n",
       "5         zip5       1000000        100.0          26370   \n",
       "6    homephone       1000000        100.0          28244   \n",
       "7  fraud_label       1000000        100.0              2   \n",
       "\n",
       "  Most Common Field Value  \n",
       "0                       1  \n",
       "1               999999999  \n",
       "2                EAMSTRMT  \n",
       "3                 ERJSAXA  \n",
       "4             123 MAIN ST  \n",
       "5                   68138  \n",
       "6              9999999999  \n",
       "7                       0  "
      ]
     },
     "execution_count": 14,
     "metadata": {},
     "output_type": "execute_result"
    }
   ],
   "source": [
    "stats_table"
   ]
  },
  {
   "cell_type": "code",
   "execution_count": 15,
   "id": "d257bb1f",
   "metadata": {
    "scrolled": true
   },
   "outputs": [
    {
     "data": {
      "text/html": [
       "<div>\n",
       "<style scoped>\n",
       "    .dataframe tbody tr th:only-of-type {\n",
       "        vertical-align: middle;\n",
       "    }\n",
       "\n",
       "    .dataframe tbody tr th {\n",
       "        vertical-align: top;\n",
       "    }\n",
       "\n",
       "    .dataframe thead th {\n",
       "        text-align: right;\n",
       "    }\n",
       "</style>\n",
       "<table border=\"1\" class=\"dataframe\">\n",
       "  <thead>\n",
       "    <tr style=\"text-align: right;\">\n",
       "      <th></th>\n",
       "      <th>date</th>\n",
       "      <th>count</th>\n",
       "    </tr>\n",
       "  </thead>\n",
       "  <tbody>\n",
       "    <tr>\n",
       "      <th>0</th>\n",
       "      <td>2016-01-01</td>\n",
       "      <td>2840</td>\n",
       "    </tr>\n",
       "    <tr>\n",
       "      <th>1</th>\n",
       "      <td>2016-01-02</td>\n",
       "      <td>2719</td>\n",
       "    </tr>\n",
       "    <tr>\n",
       "      <th>2</th>\n",
       "      <td>2016-01-03</td>\n",
       "      <td>2764</td>\n",
       "    </tr>\n",
       "    <tr>\n",
       "      <th>3</th>\n",
       "      <td>2016-01-04</td>\n",
       "      <td>2757</td>\n",
       "    </tr>\n",
       "    <tr>\n",
       "      <th>4</th>\n",
       "      <td>2016-01-05</td>\n",
       "      <td>2732</td>\n",
       "    </tr>\n",
       "    <tr>\n",
       "      <th>...</th>\n",
       "      <td>...</td>\n",
       "      <td>...</td>\n",
       "    </tr>\n",
       "    <tr>\n",
       "      <th>360</th>\n",
       "      <td>2016-12-27</td>\n",
       "      <td>2718</td>\n",
       "    </tr>\n",
       "    <tr>\n",
       "      <th>361</th>\n",
       "      <td>2016-12-28</td>\n",
       "      <td>2832</td>\n",
       "    </tr>\n",
       "    <tr>\n",
       "      <th>362</th>\n",
       "      <td>2016-12-29</td>\n",
       "      <td>2767</td>\n",
       "    </tr>\n",
       "    <tr>\n",
       "      <th>363</th>\n",
       "      <td>2016-12-30</td>\n",
       "      <td>2684</td>\n",
       "    </tr>\n",
       "    <tr>\n",
       "      <th>364</th>\n",
       "      <td>2016-12-31</td>\n",
       "      <td>2814</td>\n",
       "    </tr>\n",
       "  </tbody>\n",
       "</table>\n",
       "<p>365 rows × 2 columns</p>\n",
       "</div>"
      ],
      "text/plain": [
       "          date  count\n",
       "0   2016-01-01   2840\n",
       "1   2016-01-02   2719\n",
       "2   2016-01-03   2764\n",
       "3   2016-01-04   2757\n",
       "4   2016-01-05   2732\n",
       "..         ...    ...\n",
       "360 2016-12-27   2718\n",
       "361 2016-12-28   2832\n",
       "362 2016-12-29   2767\n",
       "363 2016-12-30   2684\n",
       "364 2016-12-31   2814\n",
       "\n",
       "[365 rows x 2 columns]"
      ]
     },
     "execution_count": 15,
     "metadata": {},
     "output_type": "execute_result"
    }
   ],
   "source": [
    "countrec_day=application_details.groupby('date')['record'].count().reset_index().rename(columns={'record':'count'})\n",
    "countrec_day"
   ]
  },
  {
   "cell_type": "code",
   "execution_count": 26,
   "id": "f8b8f88f",
   "metadata": {},
   "outputs": [
    {
     "data": {
      "text/plain": [
       "date     2016-12-31 00:00:00\n",
       "count                   2877\n",
       "dtype: object"
      ]
     },
     "execution_count": 26,
     "metadata": {},
     "output_type": "execute_result"
    }
   ],
   "source": [
    "countrec_day.max()"
   ]
  },
  {
   "cell_type": "code",
   "execution_count": 27,
   "id": "1dfcccc9",
   "metadata": {
    "scrolled": true
   },
   "outputs": [
    {
     "data": {
      "text/plain": [
       "date     2016-01-01 00:00:00\n",
       "count                   2607\n",
       "dtype: object"
      ]
     },
     "execution_count": 27,
     "metadata": {},
     "output_type": "execute_result"
    }
   ],
   "source": [
    "countrec_day.min()"
   ]
  },
  {
   "cell_type": "code",
   "execution_count": 23,
   "id": "f2c86aa3",
   "metadata": {},
   "outputs": [
    {
     "data": {
      "text/html": [
       "<div>\n",
       "<style scoped>\n",
       "    .dataframe tbody tr th:only-of-type {\n",
       "        vertical-align: middle;\n",
       "    }\n",
       "\n",
       "    .dataframe tbody tr th {\n",
       "        vertical-align: top;\n",
       "    }\n",
       "\n",
       "    .dataframe thead th {\n",
       "        text-align: right;\n",
       "    }\n",
       "</style>\n",
       "<table border=\"1\" class=\"dataframe\">\n",
       "  <thead>\n",
       "    <tr style=\"text-align: right;\">\n",
       "      <th></th>\n",
       "      <th>date</th>\n",
       "      <th>count</th>\n",
       "    </tr>\n",
       "  </thead>\n",
       "  <tbody>\n",
       "    <tr>\n",
       "      <th>count</th>\n",
       "      <td>365</td>\n",
       "      <td>365.000000</td>\n",
       "    </tr>\n",
       "    <tr>\n",
       "      <th>mean</th>\n",
       "      <td>2016-07-01 20:07:13.972602624</td>\n",
       "      <td>2739.726027</td>\n",
       "    </tr>\n",
       "    <tr>\n",
       "      <th>min</th>\n",
       "      <td>2016-01-01 00:00:00</td>\n",
       "      <td>2607.000000</td>\n",
       "    </tr>\n",
       "    <tr>\n",
       "      <th>25%</th>\n",
       "      <td>2016-04-02 00:00:00</td>\n",
       "      <td>2705.000000</td>\n",
       "    </tr>\n",
       "    <tr>\n",
       "      <th>50%</th>\n",
       "      <td>2016-07-02 00:00:00</td>\n",
       "      <td>2739.000000</td>\n",
       "    </tr>\n",
       "    <tr>\n",
       "      <th>75%</th>\n",
       "      <td>2016-10-01 00:00:00</td>\n",
       "      <td>2774.000000</td>\n",
       "    </tr>\n",
       "    <tr>\n",
       "      <th>max</th>\n",
       "      <td>2016-12-31 00:00:00</td>\n",
       "      <td>2877.000000</td>\n",
       "    </tr>\n",
       "    <tr>\n",
       "      <th>std</th>\n",
       "      <td>NaN</td>\n",
       "      <td>48.006484</td>\n",
       "    </tr>\n",
       "  </tbody>\n",
       "</table>\n",
       "</div>"
      ],
      "text/plain": [
       "                                date        count\n",
       "count                            365   365.000000\n",
       "mean   2016-07-01 20:07:13.972602624  2739.726027\n",
       "min              2016-01-01 00:00:00  2607.000000\n",
       "25%              2016-04-02 00:00:00  2705.000000\n",
       "50%              2016-07-02 00:00:00  2739.000000\n",
       "75%              2016-10-01 00:00:00  2774.000000\n",
       "max              2016-12-31 00:00:00  2877.000000\n",
       "std                              NaN    48.006484"
      ]
     },
     "execution_count": 23,
     "metadata": {},
     "output_type": "execute_result"
    }
   ],
   "source": [
    "countrec_day.describe()"
   ]
  },
  {
   "cell_type": "code",
   "execution_count": null,
   "id": "5a50bfd3",
   "metadata": {},
   "outputs": [],
   "source": []
  },
  {
   "cell_type": "code",
   "execution_count": 31,
   "id": "5d25f51c",
   "metadata": {},
   "outputs": [],
   "source": [
    "ssn_count=application_details['ssn'].value_counts().sort_values(ascending=False).reset_index()\\\n",
    "                        .rename(columns={'index':'SSN','ssn':'Count'})[:20]"
   ]
  },
  {
   "cell_type": "code",
   "execution_count": 32,
   "id": "87004dda",
   "metadata": {},
   "outputs": [
    {
     "name": "stdout",
     "output_type": "stream",
     "text": [
      "        Count  count\n",
      "0   999999999  16935\n",
      "1   938972725    114\n",
      "2   810776805     81\n",
      "3   829352390     74\n",
      "4   473311863     44\n",
      "5   165764866     34\n",
      "6   295308935     30\n",
      "7   189622157     30\n",
      "8   588726212     29\n",
      "9   163830210     29\n",
      "10  687424410     28\n",
      "11  826488428     25\n",
      "12  407447121     24\n",
      "13  901493436     24\n",
      "14   77441357     24\n",
      "15  457346566     24\n",
      "16  406203526     23\n",
      "17  256440495     23\n",
      "18  258312431     23\n",
      "19  325064391     23\n"
     ]
    }
   ],
   "source": [
    "print(ssn_count)"
   ]
  }
 ],
 "metadata": {
  "kernelspec": {
   "display_name": "Python 3 (ipykernel)",
   "language": "python",
   "name": "python3"
  },
  "language_info": {
   "codemirror_mode": {
    "name": "ipython",
    "version": 3
   },
   "file_extension": ".py",
   "mimetype": "text/x-python",
   "name": "python",
   "nbconvert_exporter": "python",
   "pygments_lexer": "ipython3",
   "version": "3.11.4"
  }
 },
 "nbformat": 4,
 "nbformat_minor": 5
}
